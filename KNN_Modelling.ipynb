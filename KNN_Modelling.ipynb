{
 "cells": [
  {
   "cell_type": "code",
   "execution_count": 35,
   "metadata": {},
   "outputs": [],
   "source": [
    "#libraries needed\n",
    "import pandas as pd\n",
    "import numpy as np\n",
    "import matplotlib.pyplot as plt\n",
    "import seaborn as sns\n",
    "from mlxtend.plotting import plot_decision_regions\n",
    "\n",
    "#scikit\n",
    "from sklearn.model_selection import train_test_split\n",
    "from sklearn import neighbors\n",
    "from sklearn.model_selection import cross_val_score, GridSearchCV\n",
    "from sklearn import preprocessing\n",
    "from sklearn import metrics\n",
    "# from sklearn.pipeline import Pipeline"
   ]
  },
  {
   "cell_type": "code",
   "execution_count": 2,
   "metadata": {},
   "outputs": [],
   "source": [
    "df = pd.read_csv(\"cleaned_data_v5.csv\", encoding=\"Latin-1\")"
   ]
  },
  {
   "cell_type": "code",
   "execution_count": 3,
   "metadata": {},
   "outputs": [],
   "source": [
    "df = df.drop(['Unnamed: 0'], axis=1)"
   ]
  },
  {
   "cell_type": "code",
   "execution_count": 4,
   "metadata": {},
   "outputs": [],
   "source": [
    "#renaming 'age'\n",
    "#[70-80) -> 70\n",
    "#[60-70) -> 60\n",
    "#[50-60) -> 90\n",
    "#[80-90) -> 80\n",
    "#[40-50) -> 40\n",
    "#[30-40) -> 30\n",
    "#[90-100) -> 90\n",
    "#[20-30) -> 20\n",
    "#[10-20) -> 10\n",
    "#[0-10)-> 0\n",
    "age_mapping = {'[70-80)': 70, '[60-70)': 60, '[50-60)':90, '[80-90)':80, '[40-50)': 40, '[30-40)': 30,'[90-100)': 90, '[20-30)': 20, '[10-20)': 10, '[0-10)': 0}\n",
    "df.age = df.age.replace(age_mapping)"
   ]
  },
  {
   "cell_type": "code",
   "execution_count": 5,
   "metadata": {},
   "outputs": [],
   "source": [
    "list_of_meds = ['metformin',\n",
    "       'repaglinide', 'nateglinide', 'chlorpropamide', 'glimepiride',\n",
    "       'acetohexamide', 'glipizide', 'glyburide', 'tolbutamide',\n",
    "       'pioglitazone', 'rosiglitazone', 'acarbose', 'miglitol', 'troglitazone',\n",
    "       'tolazamide', 'examide', 'citoglipton', 'insulin',\n",
    "       'glyburide-metformin', 'glipizide-metformin',\n",
    "       'glimepiride-pioglitazone', 'metformin-rosiglitazone',\n",
    "       'metformin-pioglitazone']\n",
    "\n",
    "# renaming values in medicines\n",
    "# change in dosage('dosage_increased', 'dosage_decreased') -> 1\n",
    "# no change or not prescribed 'not_prescribed', no_change_dosage -> 0\n",
    "new_values_meds = {\"dosage_increased\":3, \"dosage_decreased\":1 ,\"no_change_dosage\":2, \"not_prescribed\":0}\n",
    "for medicine in list_of_meds:\n",
    "    df[medicine] = df[medicine].replace(new_values_meds)"
   ]
  },
  {
   "cell_type": "code",
   "execution_count": 6,
   "metadata": {},
   "outputs": [],
   "source": [
    "# renaming 'readmitted'\n",
    "# readmitted ('>30', '<30') -> 1\n",
    "# not readmitted  ('NO') -> 0\n",
    "df.readmitted = df.readmitted.replace({'NO': 0, '>30': 1, '<30':1})"
   ]
  },
  {
   "cell_type": "code",
   "execution_count": 7,
   "metadata": {},
   "outputs": [],
   "source": [
    "# renaming 'diabetes_med_prescribed'\n",
    "# 'Yes' -> 1 \n",
    "# 'No' -> 0\n",
    "df = df.rename(columns={'diabates_med_prescribed': 'diabetes_med_prescribed'})\n",
    "df.diabetes_med_prescribed = df.diabetes_med_prescribed.replace({'Yes': 1, 'No':0})"
   ]
  },
  {
   "cell_type": "code",
   "execution_count": 8,
   "metadata": {},
   "outputs": [],
   "source": [
    "# renaming 'change_in_meds'\n",
    "# 'Ch' -> 1\n",
    "# 'No' -> 0\n",
    "df.change_in_meds = df.change_in_meds.replace({'Ch': 1, 'No': 0})"
   ]
  },
  {
   "cell_type": "markdown",
   "metadata": {},
   "source": [
    "Using Label Encoder for gender and race"
   ]
  },
  {
   "cell_type": "code",
   "execution_count": 9,
   "metadata": {},
   "outputs": [],
   "source": [
    "x = df.columns.values\n",
    "le_gender = preprocessing.LabelEncoder()\n",
    "le_race = preprocessing.LabelEncoder()\n",
    "x_gender = le_gender.fit_transform(df.gender.values)\n",
    "x_race = le_race.fit_transform(df.race.values)\n",
    "df['gender'] = x_gender\n",
    "df['race'] = x_race"
   ]
  },
  {
   "cell_type": "code",
   "execution_count": 10,
   "metadata": {},
   "outputs": [],
   "source": [
    "#discretising number_diagnoses\n",
    "df['number_diagnoses'] = np.where(df['number_diagnoses'].between(0,4), 0, df['number_diagnoses'])\n",
    "df['number_diagnoses'] = np.where(df['number_diagnoses'].between(5,8), 1, df['number_diagnoses'])\n",
    "df['number_diagnoses'] = np.where(df['number_diagnoses'].between(9,12), 2, df['number_diagnoses'])\n",
    "df['number_diagnoses'] = np.where(df['number_diagnoses'] > 12, 3, df['number_diagnoses'])\n",
    "\n",
    "#Source for all masking:\n",
    "# https://stackoverflow.com/questions/46168450/replace-a-specific-range-of-values-in-a-pandas-dataframe"
   ]
  },
  {
   "cell_type": "code",
   "execution_count": 11,
   "metadata": {},
   "outputs": [],
   "source": [
    "#discretising num_lab_procedures\n",
    "df['num_lab_procedures'] = np.where(df['num_lab_procedures'].between(0,20), 0, df['num_lab_procedures'])\n",
    "df['num_lab_procedures'] = np.where(df['num_lab_procedures'].between(21,40), 1, df['num_lab_procedures'])\n",
    "df['num_lab_procedures'] = np.where(df['num_lab_procedures'].between(41,60), 2, df['num_lab_procedures'])\n",
    "df['num_lab_procedures'] = np.where(df['num_lab_procedures'].between(61,80), 3, df['num_lab_procedures'])\n",
    "df['num_lab_procedures'] = np.where(df['num_lab_procedures'] > 80, 4, df['num_lab_procedures'])"
   ]
  },
  {
   "cell_type": "code",
   "execution_count": 12,
   "metadata": {},
   "outputs": [],
   "source": [
    "# discretising days_in_hospital\n",
    "df['days_in_hospital'] = np.where(df['days_in_hospital'].between(0,10), 0, df['days_in_hospital'])\n",
    "df['days_in_hospital'] = np.where(df['days_in_hospital'] > 10, 1, df['days_in_hospital'])"
   ]
  },
  {
   "cell_type": "code",
   "execution_count": 13,
   "metadata": {},
   "outputs": [],
   "source": [
    "# discretising num_current_medications\n",
    "df['num_current_medications'] = np.where(df['num_current_medications'].between(0,20), 0, df['num_current_medications'])\n",
    "df['num_current_medications'] = np.where(df['num_current_medications'].between(21,40), 1, df['num_current_medications'])\n",
    "df['num_current_medications'] = np.where(df['num_current_medications'].between(41,60), 2, df['num_current_medications'])\n",
    "df['num_current_medications'] = np.where(df['num_current_medications'] > 60, 3, df['days_in_hospital'])"
   ]
  },
  {
   "cell_type": "code",
   "execution_count": 14,
   "metadata": {},
   "outputs": [],
   "source": [
    "# discretising num_inpatient_overnight_stays\n",
    "df['num_inpatient_overnight_stays'] = np.where(df['num_inpatient_overnight_stays'].between(0,10), 0, df['num_inpatient_overnight_stays'])\n",
    "df['num_inpatient_overnight_stays'] = np.where(df['num_inpatient_overnight_stays'].between(11,20), 1, df['num_inpatient_overnight_stays'])\n",
    "df['num_inpatient_overnight_stays'] = np.where(df['num_inpatient_overnight_stays'] > 20, 2, df['num_inpatient_overnight_stays'])"
   ]
  },
  {
   "cell_type": "code",
   "execution_count": 15,
   "metadata": {},
   "outputs": [],
   "source": [
    "# discretising num_previous_emergencies\n",
    "df['num_previous_emergencies'] = np.where(df['num_previous_emergencies'].between(0,20), 0, df['num_previous_emergencies'])\n",
    "df['num_previous_emergencies'] = np.where(df['num_previous_emergencies'].between(21,40), 1, df['num_previous_emergencies'])\n",
    "df['num_previous_emergencies'] = np.where(df['num_previous_emergencies'].between(41,60), 2, df['num_previous_emergencies'])\n",
    "df['num_previous_emergencies'] = np.where(df['num_previous_emergencies'] > 60, 3, df['num_previous_emergencies'])"
   ]
  },
  {
   "cell_type": "code",
   "execution_count": 16,
   "metadata": {},
   "outputs": [],
   "source": [
    "# discretising num_outpatient_appointments\n",
    "df['num_outpatient_appointments'] = np.where(df['num_outpatient_appointments'].between(0,20), 0, df['num_outpatient_appointments'])\n",
    "df['num_outpatient_appointments'] = np.where(df['num_outpatient_appointments'].between(21,40), 1, df['num_outpatient_appointments'])\n",
    "df['num_outpatient_appointments'] = np.where(df['num_outpatient_appointments'] > 40, 2, df['num_outpatient_appointments'])"
   ]
  },
  {
   "cell_type": "code",
   "execution_count": 17,
   "metadata": {},
   "outputs": [],
   "source": [
    "df = pd.get_dummies(df)"
   ]
  },
  {
   "cell_type": "code",
   "execution_count": 18,
   "metadata": {},
   "outputs": [
    {
     "data": {
      "text/plain": [
       "Index(['race', 'gender', 'age', 'days_in_hospital', 'num_lab_procedures',\n",
       "       'num_not_lab_procedures', 'num_current_medications',\n",
       "       'num_outpatient_appointments', 'num_previous_emergencies',\n",
       "       'num_inpatient_overnight_stays', 'number_diagnoses', 'metformin',\n",
       "       'repaglinide', 'nateglinide', 'chlorpropamide', 'glimepiride',\n",
       "       'acetohexamide', 'glipizide', 'glyburide', 'tolbutamide',\n",
       "       'pioglitazone', 'rosiglitazone', 'acarbose', 'miglitol', 'troglitazone',\n",
       "       'tolazamide', 'examide', 'citoglipton', 'insulin',\n",
       "       'glyburide-metformin', 'glipizide-metformin',\n",
       "       'glimepiride-pioglitazone', 'metformin-rosiglitazone',\n",
       "       'metformin-pioglitazone', 'change_in_meds', 'diabetes_med_prescribed',\n",
       "       'readmitted'],\n",
       "      dtype='object')"
      ]
     },
     "execution_count": 18,
     "metadata": {},
     "output_type": "execute_result"
    }
   ],
   "source": [
    "df.columns"
   ]
  },
  {
   "cell_type": "markdown",
   "metadata": {},
   "source": [
    "Modelling"
   ]
  },
  {
   "cell_type": "code",
   "execution_count": 19,
   "metadata": {},
   "outputs": [
    {
     "name": "stdout",
     "output_type": "stream",
     "text": [
      "(99492, 36)\n"
     ]
    }
   ],
   "source": [
    "#separating samples from labels\n",
    "samples = df.drop('readmitted',axis=1)\n",
    "labels = df['readmitted']\n",
    "print(samples.shape)"
   ]
  },
  {
   "cell_type": "code",
   "execution_count": 20,
   "metadata": {},
   "outputs": [
    {
     "name": "stdout",
     "output_type": "stream",
     "text": [
      "(29847, 36)\n",
      "(69645, 36)\n"
     ]
    }
   ],
   "source": [
    "# dividing df in test data and training data\n",
    "x_train, x_test, y_train, y_test = train_test_split(samples, labels, test_size=0.7, train_size= 0.3, stratify=labels, random_state=42)\n",
    "print(x_train.shape)\n",
    "print(x_test.shape)\n",
    "#https://stackabuse.com/cross-validation-and-grid-search-for-model-selection-in-python/"
   ]
  },
  {
   "cell_type": "markdown",
   "metadata": {},
   "source": [
    "KNN"
   ]
  },
  {
   "cell_type": "code",
   "execution_count": 21,
   "metadata": {},
   "outputs": [
    {
     "name": "stdout",
     "output_type": "stream",
     "text": [
      "Standard deviation: [0.21624928 0.49847966 0.2021482  0.22726486 0.24624795 0.28431169\n",
      " 0.08110827 0.01856085 0.00703199 0.03786652 0.21784889 0.27154709\n",
      " 0.08319446 0.05562796 0.01980299 0.14983488 0.         0.22447902\n",
      " 0.21088106 0.01467418 0.17481388 0.16434852 0.03657671 0.01977689\n",
      " 0.00535875 0.01129578 0.         0.         0.36614508 0.05458346\n",
      " 0.01071705 0.         0.         0.00757848 0.49874214 0.42105018]\n",
      "Mean: [4.14006749e-01 4.61038122e-01 7.53023668e-01 5.46342164e-02\n",
      " 4.12380645e-01 2.23878240e-01 1.90106971e-02 3.15887716e-04\n",
      " 9.09373729e-05 1.40713619e-03 4.66623591e-01 1.32821212e-01\n",
      " 1.00796899e-02 4.61866131e-03 5.55196592e-04 3.41015148e-02\n",
      " 0.00000000e+00 8.29588149e-02 7.12326800e-02 2.15377988e-04\n",
      " 4.83930409e-02 4.24916840e-02 1.96711896e-03 3.80501113e-04\n",
      " 2.87170651e-05 1.91447101e-04 0.00000000e+00 0.00000000e+00\n",
      " 3.52947089e-01 4.47028980e-03 1.14868260e-04 0.00000000e+00\n",
      " 0.00000000e+00 2.87170651e-05 4.64555962e-01 7.69660421e-01]\n",
      "Max: [1.         1.         1.         1.         1.         1.\n",
      " 1.         2.         1.         2.         1.         1.\n",
      " 1.         1.         1.         1.         0.         1.\n",
      " 1.         1.         1.         1.         1.         1.5\n",
      " 1.         0.66666667 0.         0.         1.         1.\n",
      " 1.         0.         0.         2.         1.         1.        ]\n",
      "Min: [0. 0. 0. 0. 0. 0. 0. 0. 0. 0. 0. 0. 0. 0. 0. 0. 0. 0. 0. 0. 0. 0. 0. 0.\n",
      " 0. 0. 0. 0. 0. 0. 0. 0. 0. 0. 0. 0.]\n"
     ]
    }
   ],
   "source": [
    "#Normalisation is necessart becuase the data needs to be scaled to a fixed range.\n",
    "#normalisation\n",
    "scaler = preprocessing.MinMaxScaler()\n",
    "#training scaler\n",
    "x_train_norm = scaler.fit_transform(x_train)\n",
    "#using scaler\n",
    "x_test_norm = scaler.transform(x_test)\n",
    "\n",
    "#checking standard deviation mean, min, max values\n",
    "print(\"Standard deviation: \" + str(x_test_norm.std(axis=0)))\n",
    "print(\"Mean: \" + str(x_test_norm.mean(axis=0)))\n",
    "print(\"Max: \" + str(x_test_norm.max(axis=0)))\n",
    "print(\"Min: \" + str(x_test_norm.min(axis=0)))\n",
    "\n",
    "#Source\n",
    "# https://towardsdatascience.com/scale-standardize-or-normalize-with-scikit-learn-6ccc7d176a02\n",
    "# https://medium.com/@swethalakshmanan14/how-when-and-why-should-you-normalize-standardize-rescale-your-data-3f083def38ff\n",
    "# Sebastian Raschka, 2015. Python Machine Learning.\n",
    "# https://sebastianraschka.com/Articles/2014_about_feature_scaling.html"
   ]
  },
  {
   "cell_type": "raw",
   "metadata": {},
   "source": [
    "nca = neighbors.NeighborhoodComponentsAnalysis(n_components=10)\n",
    "x_train_nca = nca.fit_transform(x_train_norm, y_train)\n",
    "x_test_nca = nca.transform(x_test_norm)"
   ]
  },
  {
   "cell_type": "code",
   "execution_count": 22,
   "metadata": {},
   "outputs": [],
   "source": [
    "#KNN modelling\n",
    "knn = neighbors.KNeighborsClassifier()\n",
    "\n",
    "#Choosing Hyper Parameters\n",
    "\n",
    "#Hyper Parameters Set\n",
    "parameters = {\n",
    "        'n_neighbors':[1, 5, 15, 25, 35, 45, 55, 65],\n",
    "        'weights':['uniform', 'distance'],\n",
    "        'metric':['euclidean', 'manhattan'],\n",
    "        'algorithm':['ball_tree','kd_tree','brute']\n",
    "             }\n",
    "\n",
    "#Making models with hyper parameters sets\n",
    "grid = GridSearchCV(knn, param_grid=parameters, scoring='accuracy', n_jobs=-1, cv=3, verbose=1)\n",
    "\n",
    "\n",
    "#Sources used: \n",
    "# https://www.kaggle.com/mayu0116/hyper-parameters-tuning-of-dtree-rf-svm-knn\n",
    "# https://stackabuse.com/cross-validation-and-grid-search-for-model-selection-in-python/\n",
    "# https://medium.com/@erikgreenj/k-neighbors-classifier-with-gridsearchcv-basics-3c445ddeb657\n",
    "# https://scikit-learn.org/stable/modules/grid_search.html"
   ]
  },
  {
   "cell_type": "code",
   "execution_count": 23,
   "metadata": {},
   "outputs": [
    {
     "name": "stdout",
     "output_type": "stream",
     "text": [
      "Fitting 3 folds for each of 96 candidates, totalling 288 fits\n"
     ]
    },
    {
     "name": "stderr",
     "output_type": "stream",
     "text": [
      "[Parallel(n_jobs=-1)]: Using backend LokyBackend with 4 concurrent workers.\n",
      "[Parallel(n_jobs=-1)]: Done  42 tasks      | elapsed: 14.4min\n",
      "[Parallel(n_jobs=-1)]: Done 192 tasks      | elapsed: 53.9min\n",
      "[Parallel(n_jobs=-1)]: Done 288 out of 288 | elapsed: 80.2min finished\n"
     ]
    },
    {
     "name": "stdout",
     "output_type": "stream",
     "text": [
      "Selected parameters\n",
      "{'algorithm': 'kd_tree', 'metric': 'manhattan', 'n_neighbors': 55, 'weights': 'uniform'}\n",
      "Best Estimator: \n",
      "KNeighborsClassifier(algorithm='kd_tree', leaf_size=30, metric='manhattan',\n",
      "                     metric_params=None, n_jobs=None, n_neighbors=55, p=2,\n",
      "                     weights='uniform')\n",
      "Best Score:\n",
      "0.5524508325794888\n"
     ]
    }
   ],
   "source": [
    "#Learning\n",
    "grid.fit(x_train_norm, y_train)\n",
    "\n",
    "#Selection of best hyperparameters\n",
    "print(\"Selected parameters\")\n",
    "print(grid.best_params_)\n",
    "\n",
    "print(\"Best Estimator: \")\n",
    "print(grid.best_estimator_)\n",
    "\n",
    "print(\"Best Score:\")\n",
    "print(grid.best_score_)\n",
    "\n",
    "#Sources used:\n",
    "# https://www.kaggle.com/mayu0116/hyper-parameters-tuning-of-dtree-rf-svm-knn\n",
    "# https://www.ritchieng.com/machine-learning-efficiently-search-tuning-param/"
   ]
  },
  {
   "cell_type": "code",
   "execution_count": 30,
   "metadata": {},
   "outputs": [],
   "source": [
    "#Prediction\n",
    "y_prediction_knn = grid.predict(x_test_norm)"
   ]
  },
  {
   "cell_type": "code",
   "execution_count": 33,
   "metadata": {},
   "outputs": [
    {
     "name": "stdout",
     "output_type": "stream",
     "text": [
      "Accuracy score:\n",
      "0.551812764735444\n",
      "Classification report:\n"
     ]
    },
    {
     "data": {
      "text/plain": [
       "'              precision    recall  f1-score   support\\n\\n           0       0.57      0.64      0.61     37322\\n           1       0.52      0.45      0.48     32323\\n\\n    accuracy                           0.55     69645\\n   macro avg       0.55      0.54      0.54     69645\\nweighted avg       0.55      0.55      0.55     69645\\n'"
      ]
     },
     "execution_count": 33,
     "metadata": {},
     "output_type": "execute_result"
    }
   ],
   "source": [
    "#Confusion matrix\n",
    "confusion_matrix = metrics.confusion_matrix(y_test, y_prediction_knn)\n",
    "\n",
    "#accuracy score\n",
    "print(\"Accuracy score:\")\n",
    "grid_accuracy = metrics.accuracy_score(y_test, y_prediction_knn)\n",
    "print(grid_accuracy)\n",
    "\n",
    "#classification report\n",
    "print(\"Classification report:\")\n",
    "metrics.classification_report(y_test, y_prediction_knn)\n",
    "# Source used: https://www.kaggle.com/mayu0116/hyper-parameters-tuning-of-dtree-rf-svm-knn"
   ]
  },
  {
   "cell_type": "code",
   "execution_count": 37,
   "metadata": {},
   "outputs": [
    {
     "data": {
      "text/plain": [
       "Text(24.0, 0.5, 'True')"
      ]
     },
     "execution_count": 37,
     "metadata": {},
     "output_type": "execute_result"
    },
    {
     "data": {
      "image/png": "[encoded data removed]",
      "text/plain": [
       "<Figure size 360x360 with 2 Axes>"
      ]
     },
     "metadata": {
      "needs_background": "light"
     },
     "output_type": "display_data"
    }
   ],
   "source": [
    "#confusion matrix for heatmap\n",
    "fig_size = plt.subplots(figsize=(5,5)) \n",
    "sns.heatmap(confusion_matrix, square=True, annot=True, fmt='g')\n",
    "plt.xlabel('Predicted')\n",
    "plt.ylabel('True')\n",
    "\n",
    "# Source:\n",
    "# https://medium.com/@dtuk81/confusion-matrix-visualization-fc31e3f30fea"
   ]
  },
  {
   "cell_type": "code",
   "execution_count": 28,
   "metadata": {},
   "outputs": [
    {
     "name": "stdout",
     "output_type": "stream",
     "text": [
      "Cross validation mean:0.5464659724393403\n"
     ]
    }
   ],
   "source": [
    "#K fold cross-validation\n",
    "\n",
    "cross_val = cross_val_score(neighbors.KNeighborsClassifier(65), samples, labels, cv=10)\n",
    "print(\"Cross validation mean:\" + str(cross_val.mean()))\n",
    "#Source:\n",
    "# Jake Vanderplas, PyCon2015 - Validation and Model Selection (notebook from week 7)"
   ]
  },
  {
   "cell_type": "markdown",
   "metadata": {},
   "source": [
    "Sources used:\n",
    "- Sebastian Raschka, 2015. Python Machine Learning.\n",
    "- Dmitry Zinoviev, 2016. Data Science Essentials in Python.\n",
    "- Jake Vanderplas, PyCon2015 - Validation and Model Selection (notebook from week 7)\n",
    "- https://www.kaggle.com/mayu0116/hyper-parameters-tuning-of-dtree-rf-svm-knn\n",
    "- https://www.ritchieng.com/machine-learning-efficiently-search-tuning-param/\n",
    "- https://scikit-learn.org/stable/modules/generated\n",
    "- https://towardsdatascience.com/scale-standardize-or-normalize-with-scikit-learn-6ccc7d176a02/sklearn.preprocessing.KBinsDiscretizer.html#sklearn.preprocessing.KBinsDiscretizer\n",
    "- https://stackabuse.com/cross-validation-and-grid-search-for-model-selection-in-python/\n",
    "- https://medium.com/30-days-of-machine-learning/day-3-k-nearest-neighbors-and-bias-variance-tradeoff-75f84d515bdb\n",
    "- https://stackoverflow.com/questions/46168450/replace-a-specific-range-of-values-in-a-pandas-dataframe\n",
    "- https://www.kaggle.com/iabhishekofficial/prediction-on-hospital-readmission\n",
    "- https://medium.com/@swethalakshmanan14/how-when-and-why-should-you-normalize-standardize-rescale-your-data-3f083def38ff\n",
    "- https://sebastianraschka.com/Articles/2014_about_feature_scaling.html\n",
    "- https://scikit-learn.org/stable/modules/grid_search.html\n",
    "- https://python-graph-gallery.com/1-basic-barplot/\n",
    "- https://towardsdatascience.com/knn-visualization-in-just-13-lines-of-code-32820d72c6b6\n",
    "- https://scikit-learn.org/stable/tutorial/statistical_inference/putting_together.html"
   ]
  },
  {
   "cell_type": "code",
   "execution_count": null,
   "metadata": {},
   "outputs": [],
   "source": []
  },
  {
   "cell_type": "raw",
   "metadata": {},
   "source": []
  }
 ],
 "metadata": {
  "kernelspec": {
   "display_name": "Python 3",
   "language": "python",
   "name": "python3"
  },
  "language_info": {
   "codemirror_mode": {
    "name": "ipython",
    "version": 3
   },
   "file_extension": ".py",
   "mimetype": "text/x-python",
   "name": "python",
   "nbconvert_exporter": "python",
   "pygments_lexer": "ipython3",
   "version": "3.7.3"
  }
 },
 "nbformat": 4,
 "nbformat_minor": 2
}
